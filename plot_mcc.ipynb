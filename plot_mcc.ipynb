{
 "cells": [
  {
   "cell_type": "code",
   "execution_count": 1,
   "metadata": {
    "collapsed": false
   },
   "outputs": [
    {
     "name": "stderr",
     "output_type": "stream",
     "text": [
      "/home/jake/.local/lib/python2.7/site-packages/ipykernel/__main__.py:68: RuntimeWarning: invalid value encountered in divide\n",
      "/home/jake/anaconda2/lib/python2.7/site-packages/scipy/integrate/quadpack.py:356: IntegrationWarning: The maximum number of subdivisions (50) has been achieved.\n",
      "  If increasing the limit yields no improvement it is advised to analyze \n",
      "  the integrand in order to determine the difficulties.  If the position of a \n",
      "  local difficulty can be determined (singularity, discontinuity) one will \n",
      "  probably gain from splitting up the interval and calling the integrator \n",
      "  on the subranges.  Perhaps a special-purpose integrator should be used.\n",
      "  warnings.warn(msg, IntegrationWarning)\n"
     ]
    },
    {
     "data": {
      "image/png": "[encoded data removed]",
      "text/plain": [
       "<matplotlib.figure.Figure at 0x7fc233d010d0>"
      ]
     },
     "metadata": {},
     "output_type": "display_data"
    },
    {
     "name": "stdout",
     "output_type": "stream",
     "text": [
      "Theoretical max: 1.0\n"
     ]
    }
   ],
   "source": [
    "%matplotlib inline\n",
    "\n",
    "import matplotlib.pyplot as plt\n",
    "import numpy as np\n",
    "from itertools import cycle\n",
    "from scipy.integrate import quad\n",
    "\n",
    "from sklearn import svm, datasets\n",
    "from sklearn.metrics import confusion_matrix, matthews_corrcoef\n",
    "from sklearn.model_selection import train_test_split\n",
    "from sklearn.svm import SVC, NuSVC\n",
    "\n",
    "# import some data to play with\n",
    "iris = datasets.load_iris()\n",
    "X = iris.data\n",
    "y = iris.target\n",
    "\n",
    "# setup plot details\n",
    "colors = cycle(['navy', 'turquoise', 'darkorange', 'cornflowerblue', 'teal'])\n",
    "lw = 2\n",
    "\n",
    "# Add noisy features\n",
    "random_state = np.random.RandomState(0)\n",
    "n_samples, n_features = X.shape\n",
    "X = np.c_[X, random_state.randn(n_samples, 200 * n_features)]\n",
    "\n",
    "# Split into training and test\n",
    "X_train, X_test, y_train, y_test = train_test_split(X, y, test_size=.5, random_state=random_state)\n",
    "\n",
    "# Run classifiers\n",
    "lsvc = SVC(kernel='linear', probability=True).fit(X_train, y_train)\n",
    "rsvc = SVC(kernel='rbf', probability=True).fit(X_train, y_train)\n",
    "nsvc = NuSVC(probability=True).fit(X_train, y_train)\n",
    "\n",
    "y_scores = dict()\n",
    "y_scores['linear'] = lsvc.predict_proba(X_test)\n",
    "y_scores['rbf'] = rsvc.predict_proba(X_test)\n",
    "y_scores['nu'] = nsvc.predict_proba(X_test)\n",
    "\n",
    "# define multiclass MCC\n",
    "def matthews_r(y_true, y_pred):\n",
    "    # https://en.wikipedia.org/wiki/Matthews_correlation_coefficient#Multiclass_Case\n",
    "    \n",
    "    cm = confusion_matrix(y_true, y_pred)\n",
    "    n_classes = cm.shape[0]\n",
    "    \n",
    "    sum_top = 0\n",
    "    for k in range(n_classes):\n",
    "        for l in range(n_classes):\n",
    "            sum_top = sum_top + cm[k,k] * sum(cm[l,:]) - cm[k,l] * sum(cm[:,k])\n",
    "            \n",
    "    sum_left = 0\n",
    "    for k in range(n_classes):\n",
    "        sum_lefta = 0\n",
    "        for kp in range(n_classes):\n",
    "            if kp != k:\n",
    "                sum_lefta = sum_lefta + sum(cm[kp,:])\n",
    "        sum_left = sum_left + sum(cm[k,:]) * sum_lefta\n",
    "    \n",
    "    sum_right = 0\n",
    "    for k in range(n_classes):\n",
    "        sum_righta = 0\n",
    "        for kp in range(n_classes):\n",
    "            if kp != k:\n",
    "                sum_righta = sum_righta + sum(cm[:,kp])\n",
    "        sum_right = sum_right + sum(cm[:,k]) * sum_righta\n",
    "        \n",
    "    mcc = sum_top / np.sqrt(sum_left * sum_right)\n",
    "    \n",
    "    if np.isnan(mcc):\n",
    "        return 0.\n",
    "    else:\n",
    "        return mcc\n",
    "\n",
    "    \n",
    "t_values = np.arange(0, 1, 1e-3)\n",
    "matthews = dict()\n",
    "m_func = dict()\n",
    "for i in y_scores.keys():\n",
    "    matthews[i] = [matthews_r(y_test, np.argmax(y_scores[i] >= t, axis=1)) for t in t_values]\n",
    "    m_func[i] = lambda t: matthews_r(y_test, np.argmax(y_scores[i] >= t, axis=1))\n",
    "\n",
    "# Plot Matthews curve for each class\n",
    "plt.clf()\n",
    "for i, color in zip(matthews.keys(), colors):\n",
    "    plt.plot(t_values, matthews[i], color=color, lw=lw,\n",
    "             label='MCC curve, %s SVC (AUC = %0.2f)' % (i, quad(m_func[i], 0, 1)[0]))\n",
    "\n",
    "plt.xlim([0.0, 1.0])\n",
    "plt.ylim([-1.0, 1.0])\n",
    "plt.xlabel('Threshold')\n",
    "plt.ylabel('MCC')\n",
    "plt.title('Matthews correlation coefficient')\n",
    "plt.legend(loc=\"lower left\")\n",
    "plt.show()\n",
    "\n",
    "print('Theoretical max: %0.1f' % matthews_r(y_test, y_test))"
   ]
  }
 ],
 "metadata": {
  "kernelspec": {
   "display_name": "Python 2",
   "language": "python",
   "name": "python2"
  },
  "language_info": {
   "codemirror_mode": {
    "name": "ipython",
    "version": 2
   },
   "file_extension": ".py",
   "mimetype": "text/x-python",
   "name": "python",
   "nbconvert_exporter": "python",
   "pygments_lexer": "ipython2",
   "version": "2.7.13"
  },
  "widgets": {
   "state": {},
   "version": "1.1.2"
  }
 },
 "nbformat": 4,
 "nbformat_minor": 0
}
